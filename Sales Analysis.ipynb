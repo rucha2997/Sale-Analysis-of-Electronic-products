{
 "cells": [
  {
   "cell_type": "code",
   "execution_count": 15,
   "metadata": {},
   "outputs": [],
   "source": [
    "#imports required\n",
    "import pandas as pd\n",
    "import glob\n",
    "import os\n",
    "import matplotlib.pyplot as plt\n",
    "from itertools import combinations\n",
    "from collections import Counter"
   ]
  },
  {
   "cell_type": "code",
   "execution_count": 16,
   "metadata": {},
   "outputs": [],
   "source": [
    "# merging the files\n",
    "df = pd.concat(map(pd.read_csv, glob.glob(os.path.join('', \"Sales_Data/Sales_*.csv\"))))\n",
    "df.to_csv(\"data.csv\",index=False)"
   ]
  },
  {
   "cell_type": "code",
   "execution_count": 17,
   "metadata": {},
   "outputs": [],
   "source": [
    "#Remove NaN rows\n",
    "df=df.dropna(how='all')\n",
    "df=df[df['Order Date'].str[0:2]!='Or']"
   ]
  },
  {
   "cell_type": "code",
   "execution_count": 18,
   "metadata": {},
   "outputs": [],
   "source": [
    "#Convert columns to correct data type\n",
    "df['Quantity Ordered']=df['Quantity Ordered'].astype('int32')\n",
    "df['Price Each']=df['Price Each'].astype('float32')"
   ]
  },
  {
   "cell_type": "code",
   "execution_count": 19,
   "metadata": {},
   "outputs": [],
   "source": [
    "#Add Month column\n",
    "df['Month']=df['Order Date'].str[0:2]\n",
    "df['Month']=df['Month'].astype('int32')"
   ]
  },
  {
   "cell_type": "code",
   "execution_count": 20,
   "metadata": {},
   "outputs": [],
   "source": [
    "#Add Sales column\n",
    "df['Sales']=df['Quantity Ordered']*df['Price Each']"
   ]
  },
  {
   "cell_type": "markdown",
   "metadata": {},
   "source": [
    "\n"
   ]
  },
  {
   "cell_type": "code",
   "execution_count": 21,
   "metadata": {},
   "outputs": [],
   "source": [
    "#Month with best sales\n",
    "results=df.groupby('Month').sum()"
   ]
  },
  {
   "cell_type": "code",
   "execution_count": 22,
   "metadata": {},
   "outputs": [
    {
     "data": {
      "text/plain": [
       "Text(0.5, 0, 'Month number')"
      ]
     },
     "execution_count": 22,
     "metadata": {},
     "output_type": "execute_result"
    },
    {
     "data": {
      "image/png": "[encoded data removed]",
      "text/plain": [
       "<Figure size 432x288 with 1 Axes>"
      ]
     },
     "metadata": {
      "needs_background": "light"
     },
     "output_type": "display_data"
    }
   ],
   "source": [
    "#Visualization\n",
    "months=range(1,13)\n",
    "plt.bar(months,results['Sales'])\n",
    "plt.xticks(months)\n",
    "plt.ylabel('Sales in USD($)')\n",
    "plt.xlabel('Month number')"
   ]
  },
  {
   "cell_type": "code",
   "execution_count": 23,
   "metadata": {},
   "outputs": [
    {
     "data": {
      "text/html": [
       "<div>\n",
       "<style scoped>\n",
       "    .dataframe tbody tr th:only-of-type {\n",
       "        vertical-align: middle;\n",
       "    }\n",
       "\n",
       "    .dataframe tbody tr th {\n",
       "        vertical-align: top;\n",
       "    }\n",
       "\n",
       "    .dataframe thead th {\n",
       "        text-align: right;\n",
       "    }\n",
       "</style>\n",
       "<table border=\"1\" class=\"dataframe\">\n",
       "  <thead>\n",
       "    <tr style=\"text-align: right;\">\n",
       "      <th></th>\n",
       "      <th>Quantity Ordered</th>\n",
       "      <th>Price Each</th>\n",
       "      <th>Month</th>\n",
       "      <th>Sales</th>\n",
       "    </tr>\n",
       "    <tr>\n",
       "      <th>City</th>\n",
       "      <th></th>\n",
       "      <th></th>\n",
       "      <th></th>\n",
       "      <th></th>\n",
       "    </tr>\n",
       "  </thead>\n",
       "  <tbody>\n",
       "    <tr>\n",
       "      <th>Atlanta (GA)</th>\n",
       "      <td>16602</td>\n",
       "      <td>2779908.250</td>\n",
       "      <td>104794</td>\n",
       "      <td>2.795498e+06</td>\n",
       "    </tr>\n",
       "    <tr>\n",
       "      <th>Austin (TX)</th>\n",
       "      <td>11153</td>\n",
       "      <td>1809873.625</td>\n",
       "      <td>69829</td>\n",
       "      <td>1.819582e+06</td>\n",
       "    </tr>\n",
       "    <tr>\n",
       "      <th>Boston (MA)</th>\n",
       "      <td>22528</td>\n",
       "      <td>3637409.750</td>\n",
       "      <td>141112</td>\n",
       "      <td>3.661642e+06</td>\n",
       "    </tr>\n",
       "    <tr>\n",
       "      <th>Dallas (TX)</th>\n",
       "      <td>16730</td>\n",
       "      <td>2752627.750</td>\n",
       "      <td>104620</td>\n",
       "      <td>2.767976e+06</td>\n",
       "    </tr>\n",
       "    <tr>\n",
       "      <th>Los Angeles (CA)</th>\n",
       "      <td>33289</td>\n",
       "      <td>5421435.000</td>\n",
       "      <td>208325</td>\n",
       "      <td>5.452571e+06</td>\n",
       "    </tr>\n",
       "    <tr>\n",
       "      <th>New York City (NY)</th>\n",
       "      <td>27932</td>\n",
       "      <td>4635371.000</td>\n",
       "      <td>175741</td>\n",
       "      <td>4.664318e+06</td>\n",
       "    </tr>\n",
       "    <tr>\n",
       "      <th>Portland (ME)</th>\n",
       "      <td>2750</td>\n",
       "      <td>447189.250</td>\n",
       "      <td>17144</td>\n",
       "      <td>4.497583e+05</td>\n",
       "    </tr>\n",
       "    <tr>\n",
       "      <th>Portland (OR)</th>\n",
       "      <td>11303</td>\n",
       "      <td>1860558.250</td>\n",
       "      <td>70621</td>\n",
       "      <td>1.870732e+06</td>\n",
       "    </tr>\n",
       "    <tr>\n",
       "      <th>San Francisco (CA)</th>\n",
       "      <td>50239</td>\n",
       "      <td>8211461.500</td>\n",
       "      <td>315520</td>\n",
       "      <td>8.262204e+06</td>\n",
       "    </tr>\n",
       "    <tr>\n",
       "      <th>Seattle (WA)</th>\n",
       "      <td>16553</td>\n",
       "      <td>2733296.000</td>\n",
       "      <td>104941</td>\n",
       "      <td>2.747756e+06</td>\n",
       "    </tr>\n",
       "  </tbody>\n",
       "</table>\n",
       "</div>"
      ],
      "text/plain": [
       "                     Quantity Ordered   Price Each   Month         Sales\n",
       "City                                                                    \n",
       " Atlanta (GA)                   16602  2779908.250  104794  2.795498e+06\n",
       " Austin (TX)                    11153  1809873.625   69829  1.819582e+06\n",
       " Boston (MA)                    22528  3637409.750  141112  3.661642e+06\n",
       " Dallas (TX)                    16730  2752627.750  104620  2.767976e+06\n",
       " Los Angeles (CA)               33289  5421435.000  208325  5.452571e+06\n",
       " New York City (NY)             27932  4635371.000  175741  4.664318e+06\n",
       " Portland (ME)                   2750   447189.250   17144  4.497583e+05\n",
       " Portland (OR)                  11303  1860558.250   70621  1.870732e+06\n",
       " San Francisco (CA)             50239  8211461.500  315520  8.262204e+06\n",
       " Seattle (WA)                   16553  2733296.000  104941  2.747756e+06"
      ]
     },
     "execution_count": 23,
     "metadata": {},
     "output_type": "execute_result"
    }
   ],
   "source": [
    "#City that sold most product\n",
    "def get_city(add):\n",
    "    return add.split(\",\")[1]\n",
    "\n",
    "def get_state(add):\n",
    "    return add.split(\",\")[2].split(\" \")[1]\n",
    "\n",
    "df['City']=df['Purchase Address'].apply(lambda x: f\"{get_city(x)} ({get_state(x)})\")\n",
    "results=df.groupby('City').sum()\n",
    "results"
   ]
  },
  {
   "cell_type": "code",
   "execution_count": 24,
   "metadata": {},
   "outputs": [
    {
     "data": {
      "image/png": "[encoded data removed]",
      "text/plain": [
       "<Figure size 432x288 with 1 Axes>"
      ]
     },
     "metadata": {
      "needs_background": "light"
     },
     "output_type": "display_data"
    }
   ],
   "source": [
    "#Visualization\n",
    "City=[city for city,df in df.groupby('City')]\n",
    "plt.bar(City,results['Sales'])\n",
    "plt.xticks(City, rotation='vertical')\n",
    "plt.ylabel('Sales in USD($)')\n",
    "plt.xlabel('City')\n",
    "plt.show()"
   ]
  },
  {
   "cell_type": "code",
   "execution_count": 25,
   "metadata": {},
   "outputs": [
    {
     "data": {
      "text/html": [
       "<div>\n",
       "<style scoped>\n",
       "    .dataframe tbody tr th:only-of-type {\n",
       "        vertical-align: middle;\n",
       "    }\n",
       "\n",
       "    .dataframe tbody tr th {\n",
       "        vertical-align: top;\n",
       "    }\n",
       "\n",
       "    .dataframe thead th {\n",
       "        text-align: right;\n",
       "    }\n",
       "</style>\n",
       "<table border=\"1\" class=\"dataframe\">\n",
       "  <thead>\n",
       "    <tr style=\"text-align: right;\">\n",
       "      <th></th>\n",
       "      <th>Order ID</th>\n",
       "      <th>Product</th>\n",
       "      <th>Quantity Ordered</th>\n",
       "      <th>Price Each</th>\n",
       "      <th>Order Date</th>\n",
       "      <th>Purchase Address</th>\n",
       "      <th>Month</th>\n",
       "      <th>Sales</th>\n",
       "      <th>City</th>\n",
       "      <th>Hour</th>\n",
       "      <th>Minute</th>\n",
       "    </tr>\n",
       "  </thead>\n",
       "  <tbody>\n",
       "    <tr>\n",
       "      <th>0</th>\n",
       "      <td>295665</td>\n",
       "      <td>Macbook Pro Laptop</td>\n",
       "      <td>1</td>\n",
       "      <td>1700.000000</td>\n",
       "      <td>2019-12-30 00:01:00</td>\n",
       "      <td>136 Church St, New York City, NY 10001</td>\n",
       "      <td>12</td>\n",
       "      <td>1700.000000</td>\n",
       "      <td>New York City (NY)</td>\n",
       "      <td>0</td>\n",
       "      <td>1</td>\n",
       "    </tr>\n",
       "    <tr>\n",
       "      <th>1</th>\n",
       "      <td>295666</td>\n",
       "      <td>LG Washing Machine</td>\n",
       "      <td>1</td>\n",
       "      <td>600.000000</td>\n",
       "      <td>2019-12-29 07:03:00</td>\n",
       "      <td>562 2nd St, New York City, NY 10001</td>\n",
       "      <td>12</td>\n",
       "      <td>600.000000</td>\n",
       "      <td>New York City (NY)</td>\n",
       "      <td>7</td>\n",
       "      <td>3</td>\n",
       "    </tr>\n",
       "    <tr>\n",
       "      <th>2</th>\n",
       "      <td>295667</td>\n",
       "      <td>USB-C Charging Cable</td>\n",
       "      <td>1</td>\n",
       "      <td>11.950000</td>\n",
       "      <td>2019-12-12 18:21:00</td>\n",
       "      <td>277 Main St, New York City, NY 10001</td>\n",
       "      <td>12</td>\n",
       "      <td>11.950000</td>\n",
       "      <td>New York City (NY)</td>\n",
       "      <td>18</td>\n",
       "      <td>21</td>\n",
       "    </tr>\n",
       "    <tr>\n",
       "      <th>3</th>\n",
       "      <td>295668</td>\n",
       "      <td>27in FHD Monitor</td>\n",
       "      <td>1</td>\n",
       "      <td>149.990005</td>\n",
       "      <td>2019-12-22 15:13:00</td>\n",
       "      <td>410 6th St, San Francisco, CA 94016</td>\n",
       "      <td>12</td>\n",
       "      <td>149.990005</td>\n",
       "      <td>San Francisco (CA)</td>\n",
       "      <td>15</td>\n",
       "      <td>13</td>\n",
       "    </tr>\n",
       "    <tr>\n",
       "      <th>4</th>\n",
       "      <td>295669</td>\n",
       "      <td>USB-C Charging Cable</td>\n",
       "      <td>1</td>\n",
       "      <td>11.950000</td>\n",
       "      <td>2019-12-18 12:38:00</td>\n",
       "      <td>43 Hill St, Atlanta, GA 30301</td>\n",
       "      <td>12</td>\n",
       "      <td>11.950000</td>\n",
       "      <td>Atlanta (GA)</td>\n",
       "      <td>12</td>\n",
       "      <td>38</td>\n",
       "    </tr>\n",
       "    <tr>\n",
       "      <th>...</th>\n",
       "      <td>...</td>\n",
       "      <td>...</td>\n",
       "      <td>...</td>\n",
       "      <td>...</td>\n",
       "      <td>...</td>\n",
       "      <td>...</td>\n",
       "      <td>...</td>\n",
       "      <td>...</td>\n",
       "      <td>...</td>\n",
       "      <td>...</td>\n",
       "      <td>...</td>\n",
       "    </tr>\n",
       "    <tr>\n",
       "      <th>13617</th>\n",
       "      <td>222905</td>\n",
       "      <td>AAA Batteries (4-pack)</td>\n",
       "      <td>1</td>\n",
       "      <td>2.990000</td>\n",
       "      <td>2019-06-07 19:02:00</td>\n",
       "      <td>795 Pine St, Boston, MA 02215</td>\n",
       "      <td>6</td>\n",
       "      <td>2.990000</td>\n",
       "      <td>Boston (MA)</td>\n",
       "      <td>19</td>\n",
       "      <td>2</td>\n",
       "    </tr>\n",
       "    <tr>\n",
       "      <th>13618</th>\n",
       "      <td>222906</td>\n",
       "      <td>27in FHD Monitor</td>\n",
       "      <td>1</td>\n",
       "      <td>149.990005</td>\n",
       "      <td>2019-06-01 19:29:00</td>\n",
       "      <td>495 North St, New York City, NY 10001</td>\n",
       "      <td>6</td>\n",
       "      <td>149.990005</td>\n",
       "      <td>New York City (NY)</td>\n",
       "      <td>19</td>\n",
       "      <td>29</td>\n",
       "    </tr>\n",
       "    <tr>\n",
       "      <th>13619</th>\n",
       "      <td>222907</td>\n",
       "      <td>USB-C Charging Cable</td>\n",
       "      <td>1</td>\n",
       "      <td>11.950000</td>\n",
       "      <td>2019-06-22 18:57:00</td>\n",
       "      <td>319 Ridge St, San Francisco, CA 94016</td>\n",
       "      <td>6</td>\n",
       "      <td>11.950000</td>\n",
       "      <td>San Francisco (CA)</td>\n",
       "      <td>18</td>\n",
       "      <td>57</td>\n",
       "    </tr>\n",
       "    <tr>\n",
       "      <th>13620</th>\n",
       "      <td>222908</td>\n",
       "      <td>USB-C Charging Cable</td>\n",
       "      <td>1</td>\n",
       "      <td>11.950000</td>\n",
       "      <td>2019-06-26 18:35:00</td>\n",
       "      <td>916 Main St, San Francisco, CA 94016</td>\n",
       "      <td>6</td>\n",
       "      <td>11.950000</td>\n",
       "      <td>San Francisco (CA)</td>\n",
       "      <td>18</td>\n",
       "      <td>35</td>\n",
       "    </tr>\n",
       "    <tr>\n",
       "      <th>13621</th>\n",
       "      <td>222909</td>\n",
       "      <td>AAA Batteries (4-pack)</td>\n",
       "      <td>1</td>\n",
       "      <td>2.990000</td>\n",
       "      <td>2019-06-25 14:33:00</td>\n",
       "      <td>209 11th St, Atlanta, GA 30301</td>\n",
       "      <td>6</td>\n",
       "      <td>2.990000</td>\n",
       "      <td>Atlanta (GA)</td>\n",
       "      <td>14</td>\n",
       "      <td>33</td>\n",
       "    </tr>\n",
       "  </tbody>\n",
       "</table>\n",
       "<p>185950 rows × 11 columns</p>\n",
       "</div>"
      ],
      "text/plain": [
       "      Order ID                 Product  Quantity Ordered   Price Each  \\\n",
       "0       295665      Macbook Pro Laptop                 1  1700.000000   \n",
       "1       295666      LG Washing Machine                 1   600.000000   \n",
       "2       295667    USB-C Charging Cable                 1    11.950000   \n",
       "3       295668        27in FHD Monitor                 1   149.990005   \n",
       "4       295669    USB-C Charging Cable                 1    11.950000   \n",
       "...        ...                     ...               ...          ...   \n",
       "13617   222905  AAA Batteries (4-pack)                 1     2.990000   \n",
       "13618   222906        27in FHD Monitor                 1   149.990005   \n",
       "13619   222907    USB-C Charging Cable                 1    11.950000   \n",
       "13620   222908    USB-C Charging Cable                 1    11.950000   \n",
       "13621   222909  AAA Batteries (4-pack)                 1     2.990000   \n",
       "\n",
       "               Order Date                        Purchase Address  Month  \\\n",
       "0     2019-12-30 00:01:00  136 Church St, New York City, NY 10001     12   \n",
       "1     2019-12-29 07:03:00     562 2nd St, New York City, NY 10001     12   \n",
       "2     2019-12-12 18:21:00    277 Main St, New York City, NY 10001     12   \n",
       "3     2019-12-22 15:13:00     410 6th St, San Francisco, CA 94016     12   \n",
       "4     2019-12-18 12:38:00           43 Hill St, Atlanta, GA 30301     12   \n",
       "...                   ...                                     ...    ...   \n",
       "13617 2019-06-07 19:02:00           795 Pine St, Boston, MA 02215      6   \n",
       "13618 2019-06-01 19:29:00   495 North St, New York City, NY 10001      6   \n",
       "13619 2019-06-22 18:57:00   319 Ridge St, San Francisco, CA 94016      6   \n",
       "13620 2019-06-26 18:35:00    916 Main St, San Francisco, CA 94016      6   \n",
       "13621 2019-06-25 14:33:00          209 11th St, Atlanta, GA 30301      6   \n",
       "\n",
       "             Sales                 City  Hour  Minute  \n",
       "0      1700.000000   New York City (NY)     0       1  \n",
       "1       600.000000   New York City (NY)     7       3  \n",
       "2        11.950000   New York City (NY)    18      21  \n",
       "3       149.990005   San Francisco (CA)    15      13  \n",
       "4        11.950000         Atlanta (GA)    12      38  \n",
       "...            ...                  ...   ...     ...  \n",
       "13617     2.990000          Boston (MA)    19       2  \n",
       "13618   149.990005   New York City (NY)    19      29  \n",
       "13619    11.950000   San Francisco (CA)    18      57  \n",
       "13620    11.950000   San Francisco (CA)    18      35  \n",
       "13621     2.990000         Atlanta (GA)    14      33  \n",
       "\n",
       "[185950 rows x 11 columns]"
      ]
     },
     "execution_count": 25,
     "metadata": {},
     "output_type": "execute_result"
    },
    {
     "data": {
      "image/png": "[encoded data removed]",
      "text/plain": [
       "<Figure size 432x288 with 1 Axes>"
      ]
     },
     "metadata": {
      "needs_background": "light"
     },
     "output_type": "display_data"
    }
   ],
   "source": [
    "#Time to display advertisemens to maximize the likelihood of customer’s buying product\n",
    "df['Order Date']=pd.to_datetime(df['Order Date'])\n",
    "df['Hour']=df['Order Date'].dt.hour\n",
    "df['Minute']=df['Order Date'].dt.minute\n",
    "hours=[hour for hour,df in df.groupby('Hour')]\n",
    "plt.plot(hours,df.groupby(['Hour']).count())\n",
    "plt.xticks(hours)\n",
    "plt.grid()\n",
    "df"
   ]
  },
  {
   "cell_type": "code",
   "execution_count": 29,
   "metadata": {},
   "outputs": [
    {
     "data": {
      "image/png": "[encoded data removed]",
      "text/plain": [
       "<Figure size 432x288 with 1 Axes>"
      ]
     },
     "metadata": {
      "needs_background": "light"
     },
     "output_type": "display_data"
    }
   ],
   "source": [
    "#Product that sold the most\n",
    "product=df.groupby('Product')\n",
    "quantity=product.sum()['Quantity Ordered']\n",
    "\n",
    "products=[product for product,df in product]\n",
    "plt.bar(products,quantity)\n",
    "p\n",
    "plt.show()"
   ]
  },
  {
   "cell_type": "code",
   "execution_count": 13,
   "metadata": {},
   "outputs": [
    {
     "name": "stderr",
     "output_type": "stream",
     "text": [
      "<ipython-input-13-2540ab706d64>:3: SettingWithCopyWarning: \n",
      "A value is trying to be set on a copy of a slice from a DataFrame.\n",
      "Try using .loc[row_indexer,col_indexer] = value instead\n",
      "\n",
      "See the caveats in the documentation: https://pandas.pydata.org/pandas-docs/stable/user_guide/indexing.html#returning-a-view-versus-a-copy\n",
      "  df['Grouped']=df.groupby('Order ID')['Product'].transform(lambda x:\",\".join(x))\n"
     ]
    },
    {
     "data": {
      "text/plain": [
       "[(('iPhone', 'Lightning Charging Cable'), 1005),\n",
       " (('Google Phone', 'USB-C Charging Cable'), 987),\n",
       " (('iPhone', 'Wired Headphones'), 447),\n",
       " (('Google Phone', 'Wired Headphones'), 414),\n",
       " (('Vareebadd Phone', 'USB-C Charging Cable'), 361),\n",
       " (('iPhone', 'Apple Airpods Headphones'), 360),\n",
       " (('Google Phone', 'Bose SoundSport Headphones'), 220),\n",
       " (('USB-C Charging Cable', 'Wired Headphones'), 160),\n",
       " (('Vareebadd Phone', 'Wired Headphones'), 143),\n",
       " (('Lightning Charging Cable', 'Wired Headphones'), 92)]"
      ]
     },
     "execution_count": 13,
     "metadata": {},
     "output_type": "execute_result"
    }
   ],
   "source": [
    "#Products sold together most often\n",
    "df=df[df['Order ID'].duplicated(keep=False)]\n",
    "df['Grouped']=df.groupby('Order ID')['Product'].transform(lambda x:\",\".join(x))\n",
    "df=df[['Order ID','Grouped']].drop_duplicates()\n",
    "count=Counter()\n",
    "for row in df['Grouped']:\n",
    "    r_l=row.split(\",\")\n",
    "    count.update(Counter(combinations(r_l,2)))    \n",
    "count.most_common(10)"
   ]
  },
  {
   "cell_type": "code",
   "execution_count": null,
   "metadata": {},
   "outputs": [],
   "source": []
  }
 ],
 "metadata": {
  "kernelspec": {
   "display_name": "Python 3",
   "language": "python",
   "name": "python3"
  },
  "language_info": {
   "codemirror_mode": {
    "name": "ipython",
    "version": 3
   },
   "file_extension": ".py",
   "mimetype": "text/x-python",
   "name": "python",
   "nbconvert_exporter": "python",
   "pygments_lexer": "ipython3",
   "version": "3.8.3"
  }
 },
 "nbformat": 4,
 "nbformat_minor": 4
}
